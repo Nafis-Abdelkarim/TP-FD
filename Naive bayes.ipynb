{
 "cells": [
  {
   "cell_type": "code",
   "execution_count": 1,
   "metadata": {},
   "outputs": [],
   "source": [
    "import numpy as np \n",
    "import pandas as pd \n",
    "from sklearn.model_selection import train_test_split\n",
    "import math\n",
    "from scipy.stats import norm\n",
    "#Importation des packages\n",
    "import matplotlib.pyplot as plt\n",
    "import seaborn as sns\n",
    "\n",
    "from sklearn import datasets\n",
    "from sklearn.model_selection import train_test_split , KFold\n",
    "from sklearn.preprocessing import Normalizer\n",
    "from sklearn.metrics import accuracy_score\n",
    "from sklearn.neighbors import KNeighborsClassifier\n",
    "from collections import Counter\n",
    "\n",
    "from sklearn import datasets"
   ]
  },
  {
   "cell_type": "markdown",
   "metadata": {},
   "source": [
    "<h3>Load data</h3>"
   ]
  },
  {
   "cell_type": "code",
   "execution_count": 32,
   "metadata": {},
   "outputs": [
    {
     "data": {
      "text/html": [
       "<div>\n",
       "<style scoped>\n",
       "    .dataframe tbody tr th:only-of-type {\n",
       "        vertical-align: middle;\n",
       "    }\n",
       "\n",
       "    .dataframe tbody tr th {\n",
       "        vertical-align: top;\n",
       "    }\n",
       "\n",
       "    .dataframe thead th {\n",
       "        text-align: right;\n",
       "    }\n",
       "</style>\n",
       "<table border=\"1\" class=\"dataframe\">\n",
       "  <thead>\n",
       "    <tr style=\"text-align: right;\">\n",
       "      <th></th>\n",
       "      <th>Id</th>\n",
       "      <th>SepalLengthCm</th>\n",
       "      <th>SepalWidthCm</th>\n",
       "      <th>PetalLengthCm</th>\n",
       "      <th>PetalWidthCm</th>\n",
       "      <th>Species</th>\n",
       "    </tr>\n",
       "  </thead>\n",
       "  <tbody>\n",
       "    <tr>\n",
       "      <th>0</th>\n",
       "      <td>1</td>\n",
       "      <td>5.1</td>\n",
       "      <td>3.5</td>\n",
       "      <td>1.4</td>\n",
       "      <td>0.2</td>\n",
       "      <td>Iris-setosa</td>\n",
       "    </tr>\n",
       "    <tr>\n",
       "      <th>1</th>\n",
       "      <td>2</td>\n",
       "      <td>4.9</td>\n",
       "      <td>3.0</td>\n",
       "      <td>1.4</td>\n",
       "      <td>0.2</td>\n",
       "      <td>Iris-setosa</td>\n",
       "    </tr>\n",
       "    <tr>\n",
       "      <th>2</th>\n",
       "      <td>3</td>\n",
       "      <td>4.7</td>\n",
       "      <td>3.2</td>\n",
       "      <td>1.3</td>\n",
       "      <td>0.2</td>\n",
       "      <td>Iris-setosa</td>\n",
       "    </tr>\n",
       "    <tr>\n",
       "      <th>3</th>\n",
       "      <td>4</td>\n",
       "      <td>4.6</td>\n",
       "      <td>3.1</td>\n",
       "      <td>1.5</td>\n",
       "      <td>0.2</td>\n",
       "      <td>Iris-setosa</td>\n",
       "    </tr>\n",
       "    <tr>\n",
       "      <th>4</th>\n",
       "      <td>5</td>\n",
       "      <td>5.0</td>\n",
       "      <td>3.6</td>\n",
       "      <td>1.4</td>\n",
       "      <td>0.2</td>\n",
       "      <td>Iris-setosa</td>\n",
       "    </tr>\n",
       "  </tbody>\n",
       "</table>\n",
       "</div>"
      ],
      "text/plain": [
       "   Id  SepalLengthCm  SepalWidthCm  PetalLengthCm  PetalWidthCm      Species\n",
       "0   1            5.1           3.5            1.4           0.2  Iris-setosa\n",
       "1   2            4.9           3.0            1.4           0.2  Iris-setosa\n",
       "2   3            4.7           3.2            1.3           0.2  Iris-setosa\n",
       "3   4            4.6           3.1            1.5           0.2  Iris-setosa\n",
       "4   5            5.0           3.6            1.4           0.2  Iris-setosa"
      ]
     },
     "execution_count": 32,
     "metadata": {},
     "output_type": "execute_result"
    }
   ],
   "source": [
    "iris_df = pd.read_csv(r\"D:\\S3\\FD\\TP\\Iris (1).csv\")\n",
    "iris_df.head()"
   ]
  },
  {
   "cell_type": "code",
   "execution_count": 3,
   "metadata": {},
   "outputs": [
    {
     "data": {
      "text/plain": [
       "(150, 6)"
      ]
     },
     "execution_count": 3,
     "metadata": {},
     "output_type": "execute_result"
    }
   ],
   "source": [
    "iris_df.shape"
   ]
  },
  {
   "cell_type": "markdown",
   "metadata": {},
   "source": [
    "<h3>Data summery</h3>"
   ]
  },
  {
   "cell_type": "code",
   "execution_count": 4,
   "metadata": {},
   "outputs": [
    {
     "data": {
      "text/html": [
       "<div>\n",
       "<style scoped>\n",
       "    .dataframe tbody tr th:only-of-type {\n",
       "        vertical-align: middle;\n",
       "    }\n",
       "\n",
       "    .dataframe tbody tr th {\n",
       "        vertical-align: top;\n",
       "    }\n",
       "\n",
       "    .dataframe thead th {\n",
       "        text-align: right;\n",
       "    }\n",
       "</style>\n",
       "<table border=\"1\" class=\"dataframe\">\n",
       "  <thead>\n",
       "    <tr style=\"text-align: right;\">\n",
       "      <th></th>\n",
       "      <th>Id</th>\n",
       "      <th>SepalLengthCm</th>\n",
       "      <th>SepalWidthCm</th>\n",
       "      <th>PetalLengthCm</th>\n",
       "      <th>PetalWidthCm</th>\n",
       "    </tr>\n",
       "  </thead>\n",
       "  <tbody>\n",
       "    <tr>\n",
       "      <th>count</th>\n",
       "      <td>150.000000</td>\n",
       "      <td>150.000000</td>\n",
       "      <td>150.000000</td>\n",
       "      <td>150.000000</td>\n",
       "      <td>150.000000</td>\n",
       "    </tr>\n",
       "    <tr>\n",
       "      <th>mean</th>\n",
       "      <td>75.500000</td>\n",
       "      <td>5.843333</td>\n",
       "      <td>3.054000</td>\n",
       "      <td>3.758667</td>\n",
       "      <td>1.198667</td>\n",
       "    </tr>\n",
       "    <tr>\n",
       "      <th>std</th>\n",
       "      <td>43.445368</td>\n",
       "      <td>0.828066</td>\n",
       "      <td>0.433594</td>\n",
       "      <td>1.764420</td>\n",
       "      <td>0.763161</td>\n",
       "    </tr>\n",
       "    <tr>\n",
       "      <th>min</th>\n",
       "      <td>1.000000</td>\n",
       "      <td>4.300000</td>\n",
       "      <td>2.000000</td>\n",
       "      <td>1.000000</td>\n",
       "      <td>0.100000</td>\n",
       "    </tr>\n",
       "    <tr>\n",
       "      <th>25%</th>\n",
       "      <td>38.250000</td>\n",
       "      <td>5.100000</td>\n",
       "      <td>2.800000</td>\n",
       "      <td>1.600000</td>\n",
       "      <td>0.300000</td>\n",
       "    </tr>\n",
       "    <tr>\n",
       "      <th>50%</th>\n",
       "      <td>75.500000</td>\n",
       "      <td>5.800000</td>\n",
       "      <td>3.000000</td>\n",
       "      <td>4.350000</td>\n",
       "      <td>1.300000</td>\n",
       "    </tr>\n",
       "    <tr>\n",
       "      <th>75%</th>\n",
       "      <td>112.750000</td>\n",
       "      <td>6.400000</td>\n",
       "      <td>3.300000</td>\n",
       "      <td>5.100000</td>\n",
       "      <td>1.800000</td>\n",
       "    </tr>\n",
       "    <tr>\n",
       "      <th>max</th>\n",
       "      <td>150.000000</td>\n",
       "      <td>7.900000</td>\n",
       "      <td>4.400000</td>\n",
       "      <td>6.900000</td>\n",
       "      <td>2.500000</td>\n",
       "    </tr>\n",
       "  </tbody>\n",
       "</table>\n",
       "</div>"
      ],
      "text/plain": [
       "               Id  SepalLengthCm  SepalWidthCm  PetalLengthCm  PetalWidthCm\n",
       "count  150.000000     150.000000    150.000000     150.000000    150.000000\n",
       "mean    75.500000       5.843333      3.054000       3.758667      1.198667\n",
       "std     43.445368       0.828066      0.433594       1.764420      0.763161\n",
       "min      1.000000       4.300000      2.000000       1.000000      0.100000\n",
       "25%     38.250000       5.100000      2.800000       1.600000      0.300000\n",
       "50%     75.500000       5.800000      3.000000       4.350000      1.300000\n",
       "75%    112.750000       6.400000      3.300000       5.100000      1.800000\n",
       "max    150.000000       7.900000      4.400000       6.900000      2.500000"
      ]
     },
     "execution_count": 4,
     "metadata": {},
     "output_type": "execute_result"
    }
   ],
   "source": [
    "iris_df.describe()"
   ]
  },
  {
   "cell_type": "code",
   "execution_count": 5,
   "metadata": {},
   "outputs": [
    {
     "name": "stdout",
     "output_type": "stream",
     "text": [
      "<class 'pandas.core.frame.DataFrame'>\n",
      "RangeIndex: 150 entries, 0 to 149\n",
      "Data columns (total 6 columns):\n",
      " #   Column         Non-Null Count  Dtype  \n",
      "---  ------         --------------  -----  \n",
      " 0   Id             150 non-null    int64  \n",
      " 1   SepalLengthCm  150 non-null    float64\n",
      " 2   SepalWidthCm   150 non-null    float64\n",
      " 3   PetalLengthCm  150 non-null    float64\n",
      " 4   PetalWidthCm   150 non-null    float64\n",
      " 5   Species        150 non-null    object \n",
      "dtypes: float64(4), int64(1), object(1)\n",
      "memory usage: 7.2+ KB\n"
     ]
    }
   ],
   "source": [
    "iris_df.info()"
   ]
  },
  {
   "cell_type": "code",
   "execution_count": 6,
   "metadata": {},
   "outputs": [
    {
     "name": "stdout",
     "output_type": "stream",
     "text": [
      "['Iris-setosa', 'Iris-versicolor', 'Iris-virginica']\n"
     ]
    }
   ],
   "source": [
    "target_category = iris_df[\"Species\"].unique()\n",
    "target_category=list(map(str,target_category))\n",
    "print(target_category)"
   ]
  },
  {
   "cell_type": "code",
   "execution_count": 7,
   "metadata": {},
   "outputs": [],
   "source": [
    "species = iris_df.Species\n",
    "data = iris_df.drop(columns=['Species','Id'])  "
   ]
  },
  {
   "cell_type": "code",
   "execution_count": 35,
   "metadata": {},
   "outputs": [
    {
     "data": {
      "text/html": [
       "<div>\n",
       "<style scoped>\n",
       "    .dataframe tbody tr th:only-of-type {\n",
       "        vertical-align: middle;\n",
       "    }\n",
       "\n",
       "    .dataframe tbody tr th {\n",
       "        vertical-align: top;\n",
       "    }\n",
       "\n",
       "    .dataframe thead th {\n",
       "        text-align: right;\n",
       "    }\n",
       "</style>\n",
       "<table border=\"1\" class=\"dataframe\">\n",
       "  <thead>\n",
       "    <tr style=\"text-align: right;\">\n",
       "      <th></th>\n",
       "      <th>Id</th>\n",
       "      <th>SepalLengthCm</th>\n",
       "      <th>SepalWidthCm</th>\n",
       "      <th>PetalLengthCm</th>\n",
       "      <th>PetalWidthCm</th>\n",
       "      <th>Species</th>\n",
       "      <th>Category</th>\n",
       "    </tr>\n",
       "  </thead>\n",
       "  <tbody>\n",
       "    <tr>\n",
       "      <th>0</th>\n",
       "      <td>1</td>\n",
       "      <td>5.1</td>\n",
       "      <td>3.5</td>\n",
       "      <td>1.4</td>\n",
       "      <td>0.2</td>\n",
       "      <td>Iris-setosa</td>\n",
       "      <td>0</td>\n",
       "    </tr>\n",
       "    <tr>\n",
       "      <th>1</th>\n",
       "      <td>2</td>\n",
       "      <td>4.9</td>\n",
       "      <td>3.0</td>\n",
       "      <td>1.4</td>\n",
       "      <td>0.2</td>\n",
       "      <td>Iris-setosa</td>\n",
       "      <td>0</td>\n",
       "    </tr>\n",
       "    <tr>\n",
       "      <th>2</th>\n",
       "      <td>3</td>\n",
       "      <td>4.7</td>\n",
       "      <td>3.2</td>\n",
       "      <td>1.3</td>\n",
       "      <td>0.2</td>\n",
       "      <td>Iris-setosa</td>\n",
       "      <td>0</td>\n",
       "    </tr>\n",
       "    <tr>\n",
       "      <th>3</th>\n",
       "      <td>4</td>\n",
       "      <td>4.6</td>\n",
       "      <td>3.1</td>\n",
       "      <td>1.5</td>\n",
       "      <td>0.2</td>\n",
       "      <td>Iris-setosa</td>\n",
       "      <td>0</td>\n",
       "    </tr>\n",
       "    <tr>\n",
       "      <th>4</th>\n",
       "      <td>5</td>\n",
       "      <td>5.0</td>\n",
       "      <td>3.6</td>\n",
       "      <td>1.4</td>\n",
       "      <td>0.2</td>\n",
       "      <td>Iris-setosa</td>\n",
       "      <td>0</td>\n",
       "    </tr>\n",
       "  </tbody>\n",
       "</table>\n",
       "</div>"
      ],
      "text/plain": [
       "   Id  SepalLengthCm  SepalWidthCm  PetalLengthCm  PetalWidthCm      Species  \\\n",
       "0   1            5.1           3.5            1.4           0.2  Iris-setosa   \n",
       "1   2            4.9           3.0            1.4           0.2  Iris-setosa   \n",
       "2   3            4.7           3.2            1.3           0.2  Iris-setosa   \n",
       "3   4            4.6           3.1            1.5           0.2  Iris-setosa   \n",
       "4   5            5.0           3.6            1.4           0.2  Iris-setosa   \n",
       "\n",
       "   Category  \n",
       "0         0  \n",
       "1         0  \n",
       "2         0  \n",
       "3         0  \n",
       "4         0  "
      ]
     },
     "execution_count": 35,
     "metadata": {},
     "output_type": "execute_result"
    }
   ],
   "source": [
    "iris_df['Category'] = iris_df['Species'].factorize()[0]\n",
    "category = iris_df['Category']\n",
    "iris_df.head()"
   ]
  },
  {
   "cell_type": "markdown",
   "metadata": {},
   "source": [
    "<h3>Split dataset into train/test</h3>"
   ]
  },
  {
   "cell_type": "code",
   "execution_count": 9,
   "metadata": {},
   "outputs": [
    {
     "name": "stdout",
     "output_type": "stream",
     "text": [
      "[40 40 40]\n"
     ]
    }
   ],
   "source": [
    "#diviser l'ensemble de données en testing data (20%) et en training data (80%) en utilisant la stratification pour diviser en taille égal\n",
    "data_train,data_test,species_train,species_test = train_test_split(data,category, test_size = 0.2, stratify = category,random_state=1)\n",
    "print(np.bincount(species_train))"
   ]
  },
  {
   "cell_type": "code",
   "execution_count": 10,
   "metadata": {},
   "outputs": [
    {
     "name": "stdout",
     "output_type": "stream",
     "text": [
      "       0    1    2    3    4\n",
      "0    5.1  3.7  1.5  0.4  0.0\n",
      "1    4.6  3.2  1.4  0.2  0.0\n",
      "2    6.9  3.1  5.1  2.3  2.0\n",
      "3    5.5  2.6  4.4  1.2  1.0\n",
      "4    5.6  2.9  3.6  1.3  1.0\n",
      "..   ...  ...  ...  ...  ...\n",
      "115  4.5  2.3  1.3  0.3  0.0\n",
      "116  5.0  2.3  3.3  1.0  1.0\n",
      "117  5.0  3.4  1.6  0.4  0.0\n",
      "118  4.6  3.1  1.5  0.2  0.0\n",
      "119  4.4  3.2  1.3  0.2  0.0\n",
      "\n",
      "[120 rows x 5 columns]\n"
     ]
    }
   ],
   "source": [
    "new_iris = pd.DataFrame(np.column_stack([data_train,species_train]))\n",
    "print(new_iris)"
   ]
  },
  {
   "cell_type": "markdown",
   "metadata": {},
   "source": [
    "<h3>Sort and rearrange the data based on the species</h3>"
   ]
  },
  {
   "cell_type": "code",
   "execution_count": 36,
   "metadata": {},
   "outputs": [
    {
     "data": {
      "text/html": [
       "<div>\n",
       "<style scoped>\n",
       "    .dataframe tbody tr th:only-of-type {\n",
       "        vertical-align: middle;\n",
       "    }\n",
       "\n",
       "    .dataframe tbody tr th {\n",
       "        vertical-align: top;\n",
       "    }\n",
       "\n",
       "    .dataframe thead th {\n",
       "        text-align: right;\n",
       "    }\n",
       "</style>\n",
       "<table border=\"1\" class=\"dataframe\">\n",
       "  <thead>\n",
       "    <tr style=\"text-align: right;\">\n",
       "      <th></th>\n",
       "      <th>0</th>\n",
       "      <th>1</th>\n",
       "      <th>2</th>\n",
       "      <th>3</th>\n",
       "      <th>4</th>\n",
       "    </tr>\n",
       "  </thead>\n",
       "  <tbody>\n",
       "    <tr>\n",
       "      <th>2</th>\n",
       "      <td>6.9</td>\n",
       "      <td>3.1</td>\n",
       "      <td>5.1</td>\n",
       "      <td>2.3</td>\n",
       "      <td>2.0</td>\n",
       "    </tr>\n",
       "    <tr>\n",
       "      <th>7</th>\n",
       "      <td>6.0</td>\n",
       "      <td>2.2</td>\n",
       "      <td>5.0</td>\n",
       "      <td>1.5</td>\n",
       "      <td>2.0</td>\n",
       "    </tr>\n",
       "    <tr>\n",
       "      <th>8</th>\n",
       "      <td>6.3</td>\n",
       "      <td>3.4</td>\n",
       "      <td>5.6</td>\n",
       "      <td>2.4</td>\n",
       "      <td>2.0</td>\n",
       "    </tr>\n",
       "    <tr>\n",
       "      <th>10</th>\n",
       "      <td>6.7</td>\n",
       "      <td>3.0</td>\n",
       "      <td>5.2</td>\n",
       "      <td>2.3</td>\n",
       "      <td>2.0</td>\n",
       "    </tr>\n",
       "    <tr>\n",
       "      <th>14</th>\n",
       "      <td>6.3</td>\n",
       "      <td>2.9</td>\n",
       "      <td>5.6</td>\n",
       "      <td>1.8</td>\n",
       "      <td>2.0</td>\n",
       "    </tr>\n",
       "  </tbody>\n",
       "</table>\n",
       "</div>"
      ],
      "text/plain": [
       "      0    1    2    3    4\n",
       "2   6.9  3.1  5.1  2.3  2.0\n",
       "7   6.0  2.2  5.0  1.5  2.0\n",
       "8   6.3  3.4  5.6  2.4  2.0\n",
       "10  6.7  3.0  5.2  2.3  2.0\n",
       "14  6.3  2.9  5.6  1.8  2.0"
      ]
     },
     "execution_count": 36,
     "metadata": {},
     "output_type": "execute_result"
    }
   ],
   "source": [
    "#Trier et réorganiser les données sur sa catégorie\n",
    "setosa = new_iris[new_iris[4] == 0]\n",
    "versicolor = new_iris[new_iris[4]==1]       \n",
    "virginica  = new_iris[new_iris[4]==2] \n",
    "new_iris = pd.concat([setosa,versicolor,virginica])\n",
    "setosa.head()\n",
    "versicolor.head()\n",
    "virginica.head()"
   ]
  },
  {
   "cell_type": "markdown",
   "metadata": {},
   "source": [
    "<h3>Splits data based on species</h3>"
   ]
  },
  {
   "cell_type": "code",
   "execution_count": 12,
   "metadata": {},
   "outputs": [],
   "source": [
    "setosa_data=new_iris[0:40] \n",
    "versicolor_data=new_iris[40:80]\n",
    "virginica_data=new_iris[80:120]"
   ]
  },
  {
   "cell_type": "markdown",
   "metadata": {},
   "source": [
    "<h3>find mean</h3>"
   ]
  },
  {
   "cell_type": "code",
   "execution_count": 13,
   "metadata": {},
   "outputs": [
    {
     "name": "stdout",
     "output_type": "stream",
     "text": [
      "0    4.9975\n",
      "1    3.4050\n",
      "2    1.4575\n",
      "3    0.2375\n",
      "4    0.0000\n",
      "dtype: float64 0    5.9400\n",
      "1    2.7875\n",
      "2    4.2950\n",
      "3    1.3325\n",
      "4    1.0000\n",
      "dtype: float64 0    6.6700\n",
      "1    2.9975\n",
      "2    5.6175\n",
      "3    2.0400\n",
      "4    2.0000\n",
      "dtype: float64\n"
     ]
    }
   ],
   "source": [
    "#calculer le main\n",
    "setosa_mean = setosa_data.mean()\n",
    "versicolor_mean = versicolor_data.mean()\n",
    "virginica_mean= virginica_data.mean()\n",
    "print(setosa_mean,versicolor_mean,virginica_mean)"
   ]
  },
  {
   "cell_type": "markdown",
   "metadata": {},
   "source": [
    "<h3>find standard diviation</h3>"
   ]
  },
  {
   "cell_type": "code",
   "execution_count": 14,
   "metadata": {},
   "outputs": [
    {
     "name": "stdout",
     "output_type": "stream",
     "text": [
      "0    0.351179\n",
      "1    0.358737\n",
      "2    0.185206\n",
      "3    0.086787\n",
      "4    0.000000\n",
      "dtype: float64 0    0.494482\n",
      "1    0.308169\n",
      "2    0.435566\n",
      "3    0.196622\n",
      "4    0.000000\n",
      "dtype: float64 0    0.592344\n",
      "1    0.333195\n",
      "2    0.545324\n",
      "3    0.294218\n",
      "4    0.000000\n",
      "dtype: float64\n"
     ]
    }
   ],
   "source": [
    "#la standarisation\n",
    "setosa_std = setosa_data.std()\n",
    "versicolor_std = versicolor_data.std()\n",
    "virginica_std = virginica_data.std()\n",
    "print(setosa_std,versicolor_std,virginica_std)"
   ]
  },
  {
   "cell_type": "markdown",
   "metadata": {},
   "source": [
    "<h3>Finding Likelihood</h3>"
   ]
  },
  {
   "cell_type": "code",
   "execution_count": 15,
   "metadata": {},
   "outputs": [
    {
     "name": "stdout",
     "output_type": "stream",
     "text": [
      "[1.4426580700892164, 4.859950538247489, 3.681311494548139, 0.5602613645293176, 11.096692414208947, 4.708645550519082, 0.9869177278847444, 5.027865366544022, 10.63422212525947, 0.3347440525802846, 2.5067408810202014, 5.523920120747661, 0.08046997818740656, 4.429608698883304, 9.194055698490738, 0.06525343204281557, 0.2450644579429106, 2.3282164040871387, 0.040709262933722894, 6.4912692059963, 0.3020811479117205, 4.480788976038864, 4.103501562127642, 9.074380401691098, 5.040647664716323, 10.40248181911195, 4.846470606571815, 1.0944825796912072, 0.05026812543275934, 5.461187819110392, 4.913679372606586, 9.366533208389106, 8.510389058937559, 0.45029653892091814, 2.753061777919138, 4.1517482781691815, 0.02145326108103868, 1.6118835377478415, 4.074492875633117, 1.58538963842863, 0.8403628783339742, 0.3959314997528378, 0.09484006856639267, 0.4082805469513774, 0.04674480528993944, 0.5249417793314612, 0.1329466049559066, 0.1710337310597052, 1.4176966480545765, 1.52219360820255, 0.05579070326125043, 1.0361575762222712, 0.25550043839107883, 1.1225115347922254, 1.5598389656754927, 0.32625256868707214, 0.9460380729876207, 1.5383254011436713, 0.9518586961669341, 1.0780665405682952, 0.16085638836258678, 0.32014089328744266, 0.3802071171837074, 0.5750483930090603, 0.023880360000470634, 0.9817591591732707, 0.6630494228477333, 0.38779822984226664, 0.5752014918242843, 1.0714260096519848, 1.0584485301248912, 0.06487823005988119, 0.04872674532213474, 1.0544095695479478, 0.0005507097613493974, 0.32670022506123053, 0.1544082990869907, 0.022097231057816694, 1.5547456960849853, 0.0016060601856784336, 0.305229111692358, 0.0023513772001266535, 0.15000887614364294, 0.4032917082340731, 0.4518675877669645, 0.17765099145893679, 0.13329103116714563, 0.3841740384525642, 0.10393939002389883, 0.5214246885773539, 0.3602548398891479, 0.537741826841652, 0.15407565098661813, 0.10153412524849219, 0.020441248197315236, 0.06531135008854126, 0.08070312574627202, 0.06881178280681532, 0.10039284456692613, 0.40307393097492356, 0.18957691436540697, 0.41262294516182374, 0.023185026568312683, 0.0983388180574896, 0.16566066161223558, 0.34240213325685487, 0.5122770146240077, 0.626047446011032, 0.5920779571830261, 0.1570557141821975, 0.0011666962961337578, 0.0036880862755533325, 0.2498448362793699, 0.11416886181248938, 0.6400017694768625, 0.481732268481376, 0.020815313805021277, 0.04506713220926917, 0.10393939002389883, 0.0018029298206597509]\n"
     ]
    }
   ],
   "source": [
    "#Trouver la probabilité\n",
    "x =[]\n",
    "likelihood = []\n",
    "   \n",
    "for j in range(len(new_iris)):\n",
    "    distribution = 1\n",
    "    if(j<40):\n",
    "        mean=setosa_mean\n",
    "        std = setosa_std\n",
    "    if(j>=40 and j<80):\n",
    "        mean=versicolor_mean\n",
    "        std = versicolor_std\n",
    "    if(j>=80 and j<120):\n",
    "        mean=virginica_mean\n",
    "        std = virginica_std    \n",
    "    \n",
    "    for i in range(4):\n",
    "        x = new_iris.iloc[j] \n",
    "        a= ((x[i]- mean[i])**2)/(2*std[i]**2)\n",
    "        b= math.sqrt(2*math.pi*(std[i]**2))\n",
    "        y = math.exp(-a)/b\n",
    "        distribution= distribution*y  \n",
    "    likelihood.append(distribution)\n",
    "    x=[]  \n",
    "print(likelihood)"
   ]
  },
  {
   "cell_type": "markdown",
   "metadata": {},
   "source": [
    "<h3>Find Priori probability</h3>"
   ]
  },
  {
   "cell_type": "code",
   "execution_count": 16,
   "metadata": {},
   "outputs": [
    {
     "name": "stdout",
     "output_type": "stream",
     "text": [
      "0.3333333333333333\n",
      "0.3333333333333333\n",
      "0.3333333333333333\n"
     ]
    }
   ],
   "source": [
    "#Trouver la probabilité a priori\n",
    "setosa_priori = len(setosa_data)/len(new_iris)\n",
    "versicolor_priori = len(versicolor_data)/len(new_iris)\n",
    "virginica_priori = len(virginica_data)/len(new_iris)\n",
    "\n",
    "print(setosa_priori)\n",
    "print(versicolor_priori)\n",
    "print(virginica_priori) "
   ]
  },
  {
   "cell_type": "markdown",
   "metadata": {},
   "source": [
    "<h3>Rearrange the data into groups based on the species</h3>"
   ]
  },
  {
   "cell_type": "code",
   "execution_count": 17,
   "metadata": {},
   "outputs": [],
   "source": [
    "#Réorganiser les données en groupes en fonction de l'espèce\n",
    "new_test = pd.DataFrame(np.column_stack([data_train,species_train]))"
   ]
  },
  {
   "cell_type": "code",
   "execution_count": 18,
   "metadata": {},
   "outputs": [],
   "source": [
    "setosa = new_test[new_test[4] == 0]\n",
    "versicolor = new_test[new_test[4]==1]       \n",
    "virginica  = new_test[new_test[4]==2] \n",
    "new_test = pd.concat([setosa,versicolor,virginica])"
   ]
  },
  {
   "cell_type": "markdown",
   "metadata": {},
   "source": [
    "<h3>Find likelihood for test data</h3>"
   ]
  },
  {
   "cell_type": "code",
   "execution_count": 19,
   "metadata": {},
   "outputs": [],
   "source": [
    "#trouver la probablilté pour les données de test\n",
    "testLikelihood =[]\n",
    "x=[]\n",
    "testPosterior=[]\n",
    "posteriorSpecies =[]\n",
    "\n",
    "\n",
    "for j in range(len(new_test)):\n",
    "    for c in range(3): \n",
    "        if (c==0):\n",
    "            mean = setosa_mean\n",
    "            std = setosa_std\n",
    "            priori = setosa_priori\n",
    "        if (c == 1):\n",
    "            mean= versicolor_mean\n",
    "            std = versicolor_std\n",
    "            priori = versicolor_priori\n",
    "        if(c == 2):\n",
    "            mean= virginica_mean\n",
    "            std = virginica_std\n",
    "            priori = virginica_priori\n",
    "        distribution = 1       \n",
    "        for i in range(4):\n",
    "            x = new_test.iloc[j] \n",
    "            a= ((x[i]- mean[i])**2)/(2*std[i]**2)\n",
    "            b= math.sqrt(2*math.pi*(std[i]**2))\n",
    "            y = math.exp(-a)/b \n",
    "            distribution= distribution*y\n",
    "        x=[]    \n",
    "        testLikelihood.append(distribution)\n",
    "        posterior = testLikelihood[c]* priori    #Calculate poterior values\n",
    "        testPosterior.append(posterior)\n",
    "        maxPosterior = testPosterior.index(max(testPosterior))   #finds the maximum value\n",
    "    posteriorSpecies.append(maxPosterior)\n",
    "   \n",
    "\n",
    "    testLikelihood =[]    \n",
    "    testPosterior=[] "
   ]
  },
  {
   "cell_type": "markdown",
   "metadata": {},
   "source": [
    "<h3>Lets check the Differences</h3>"
   ]
  },
  {
   "cell_type": "code",
   "execution_count": 20,
   "metadata": {},
   "outputs": [
    {
     "name": "stdout",
     "output_type": "stream",
     "text": [
      "Species of original test data\n",
      "[0, 0, 0, 0, 0, 0, 0, 0, 0, 0, 0, 0, 0, 0, 0, 0, 0, 0, 0, 0, 0, 0, 0, 0, 0, 0, 0, 0, 0, 0, 0, 0, 0, 0, 0, 0, 0, 0, 0, 0, 1, 1, 1, 1, 1, 1, 1, 1, 1, 1, 1, 1, 1, 1, 1, 1, 1, 1, 1, 1, 1, 1, 1, 1, 1, 1, 1, 1, 1, 1, 1, 1, 1, 1, 1, 1, 1, 1, 1, 1, 2, 2, 2, 2, 2, 2, 2, 2, 2, 2, 2, 2, 2, 2, 2, 2, 2, 2, 2, 2, 2, 2, 2, 2, 2, 2, 2, 2, 2, 2, 2, 2, 2, 2, 2, 2, 2, 2, 2, 2]\n",
      "Species of Maximum Posterior values\n",
      "[0, 0, 0, 0, 0, 0, 0, 0, 0, 0, 0, 0, 0, 0, 0, 0, 0, 0, 0, 0, 0, 0, 0, 0, 0, 0, 0, 0, 0, 0, 0, 0, 0, 0, 0, 0, 0, 0, 0, 0, 1, 1, 1, 1, 2, 1, 1, 1, 1, 1, 1, 1, 1, 1, 1, 1, 1, 1, 1, 1, 1, 1, 1, 1, 2, 1, 1, 1, 1, 1, 1, 1, 1, 1, 1, 1, 1, 2, 1, 1, 2, 1, 2, 2, 2, 2, 2, 2, 2, 2, 2, 2, 2, 2, 2, 1, 2, 2, 2, 2, 2, 2, 2, 2, 2, 2, 2, 2, 2, 2, 2, 2, 2, 2, 2, 2, 2, 2, 2, 2]\n"
     ]
    }
   ],
   "source": [
    "#Vérifions les Différences\n",
    "print(\"Species of original test data\") \n",
    "species_test = list(map(int,new_test[4]))\n",
    "print(species_test)\n",
    "\n",
    "print(\"Species of Maximum Posterior values\")    \n",
    "print(posteriorSpecies)"
   ]
  },
  {
   "cell_type": "markdown",
   "metadata": {},
   "source": [
    "<h3>Accuarcy</h3>"
   ]
  },
  {
   "cell_type": "code",
   "execution_count": 37,
   "metadata": {},
   "outputs": [
    {
     "name": "stdout",
     "output_type": "stream",
     "text": [
      "la précision : 0.9583333333333334\n",
      "la précision exact : 0.96\n",
      "le percentage de la précision est : 0.96\n"
     ]
    }
   ],
   "source": [
    "#le précision\n",
    "similar=0\n",
    "for i in range(len(posteriorSpecies)):\n",
    "    if(species_test[i] == posteriorSpecies[i]):\n",
    "        similar +=1\n",
    "accuracy_percentage = similar/(i+1)*100\n",
    "accuracy = similar/(i+1)\n",
    "the_exact_accuarcy =round(accuracy,2)\n",
    "print(\"la précision :\", accuracy)\n",
    "print(\"la précision exact :\", the_exact_accuarcy)\n",
    "print(\"le percentage de la précision est :\",the_exact_accuarcy)"
   ]
  }
 ],
 "metadata": {
  "kernelspec": {
   "display_name": "Python 3.10.7 64-bit",
   "language": "python",
   "name": "python3"
  },
  "language_info": {
   "codemirror_mode": {
    "name": "ipython",
    "version": 3
   },
   "file_extension": ".py",
   "mimetype": "text/x-python",
   "name": "python",
   "nbconvert_exporter": "python",
   "pygments_lexer": "ipython3",
   "version": "3.10.7"
  },
  "orig_nbformat": 4,
  "vscode": {
   "interpreter": {
    "hash": "fbc768028c3e6ead51d9a200ddcb2ec858ae62844dcd1994729a8279be9b48f2"
   }
  }
 },
 "nbformat": 4,
 "nbformat_minor": 2
}
